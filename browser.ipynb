{
  "nbformat": 4,
  "nbformat_minor": 0,
  "metadata": {
    "colab": {
      "provenance": []
    },
    "kernelspec": {
      "name": "python3",
      "display_name": "Python 3"
    },
    "language_info": {
      "name": "python"
    }
  },
  "cells": [
    {
      "cell_type": "markdown",
      "source": [
        "# **RUN ALL**"
      ],
      "metadata": {
        "id": "qyrAgFHHd18S"
      }
    },
    {
      "cell_type": "code",
      "source": [
        "!pip install selenium\n",
        "!apt-get update\n",
        "!apt install chromium-chromedriver\n",
        "!cp /usr/lib/chromium-browser/chromedriver /usr/bin\n",
        "import sys\n",
        "sys.path.insert(0,'/usr/lib/chromium-browser/chromedriver')\n",
        "from selenium import webdriver\n",
        "chrome_options = webdriver.ChromeOptions()\n",
        "chrome_options.add_argument('--headless')\n",
        "chrome_options.add_argument('--no-sandbox')\n",
        "chrome_options.add_argument('--disable-dev-shm-usage')\n",
        "wd = webdriver.Chrome(options=chrome_options)\n"
      ],
      "metadata": {
        "colab": {
          "base_uri": "https://localhost:8080/"
        },
        "id": "aBlJYD5lHa_k",
        "outputId": "950a0dd0-d53d-47f9-b46e-e9359ece676d"
      },
      "execution_count": 1,
      "outputs": [
        {
          "output_type": "stream",
          "name": "stdout",
          "text": [
            "Requirement already satisfied: selenium in /usr/local/lib/python3.10/dist-packages (4.18.1)\n",
            "Requirement already satisfied: urllib3[socks]<3,>=1.26 in /usr/local/lib/python3.10/dist-packages (from selenium) (2.0.7)\n",
            "Requirement already satisfied: trio~=0.17 in /usr/local/lib/python3.10/dist-packages (from selenium) (0.24.0)\n",
            "Requirement already satisfied: trio-websocket~=0.9 in /usr/local/lib/python3.10/dist-packages (from selenium) (0.11.1)\n",
            "Requirement already satisfied: certifi>=2021.10.8 in /usr/local/lib/python3.10/dist-packages (from selenium) (2024.2.2)\n",
            "Requirement already satisfied: typing_extensions>=4.9.0 in /usr/local/lib/python3.10/dist-packages (from selenium) (4.9.0)\n",
            "Requirement already satisfied: attrs>=20.1.0 in /usr/local/lib/python3.10/dist-packages (from trio~=0.17->selenium) (23.2.0)\n",
            "Requirement already satisfied: sortedcontainers in /usr/local/lib/python3.10/dist-packages (from trio~=0.17->selenium) (2.4.0)\n",
            "Requirement already satisfied: idna in /usr/local/lib/python3.10/dist-packages (from trio~=0.17->selenium) (3.6)\n",
            "Requirement already satisfied: outcome in /usr/local/lib/python3.10/dist-packages (from trio~=0.17->selenium) (1.3.0.post0)\n",
            "Requirement already satisfied: sniffio>=1.3.0 in /usr/local/lib/python3.10/dist-packages (from trio~=0.17->selenium) (1.3.0)\n",
            "Requirement already satisfied: exceptiongroup in /usr/local/lib/python3.10/dist-packages (from trio~=0.17->selenium) (1.2.0)\n",
            "Requirement already satisfied: wsproto>=0.14 in /usr/local/lib/python3.10/dist-packages (from trio-websocket~=0.9->selenium) (1.2.0)\n",
            "Requirement already satisfied: pysocks!=1.5.7,<2.0,>=1.5.6 in /usr/local/lib/python3.10/dist-packages (from urllib3[socks]<3,>=1.26->selenium) (1.7.1)\n",
            "Requirement already satisfied: h11<1,>=0.9.0 in /usr/local/lib/python3.10/dist-packages (from wsproto>=0.14->trio-websocket~=0.9->selenium) (0.14.0)\n",
            "Get:1 https://cloud.r-project.org/bin/linux/ubuntu jammy-cran40/ InRelease [3,626 B]\n",
            "Hit:2 https://developer.download.nvidia.com/compute/cuda/repos/ubuntu2204/x86_64  InRelease\n",
            "Hit:3 http://archive.ubuntu.com/ubuntu jammy InRelease\n",
            "Get:4 http://security.ubuntu.com/ubuntu jammy-security InRelease [110 kB]\n",
            "Get:5 http://archive.ubuntu.com/ubuntu jammy-updates InRelease [119 kB]\n",
            "Hit:6 https://ppa.launchpadcontent.net/c2d4u.team/c2d4u4.0+/ubuntu jammy InRelease\n",
            "Hit:7 https://ppa.launchpadcontent.net/deadsnakes/ppa/ubuntu jammy InRelease\n",
            "Hit:8 http://archive.ubuntu.com/ubuntu jammy-backports InRelease\n",
            "Hit:9 https://ppa.launchpadcontent.net/graphics-drivers/ppa/ubuntu jammy InRelease\n",
            "Hit:10 https://ppa.launchpadcontent.net/ubuntugis/ppa/ubuntu jammy InRelease\n",
            "Fetched 233 kB in 2s (125 kB/s)\n",
            "Reading package lists... Done\n",
            "Reading package lists... Done\n",
            "Building dependency tree... Done\n",
            "Reading state information... Done\n",
            "chromium-chromedriver is already the newest version (1:85.0.4183.83-0ubuntu2.22.04.1).\n",
            "0 upgraded, 0 newly installed, 0 to remove and 42 not upgraded.\n",
            "cp: '/usr/lib/chromium-browser/chromedriver' and '/usr/bin/chromedriver' are the same file\n"
          ]
        }
      ]
    },
    {
      "cell_type": "code",
      "source": [
        "import requests\n",
        "\n",
        "# Download the file from GitHub\n",
        "url = 'https://raw.githubusercontent.com/ameenTheprogramer/imgcount/main/count.txt'\n",
        "response = requests.get(url)\n",
        "if response.status_code == 200:\n",
        "    value = int(response.text.strip())  # Convert the text to an integer\n",
        "else:\n",
        "    print(\"Failed to download the file\")\n",
        "\n",
        "# Assign the value to a constant variable\n",
        "k = value\n",
        "\n",
        "# Verify the constant value\n",
        "print(\"Constant value:\", k)\n"
      ],
      "metadata": {
        "id": "ORJQYhSa6sQP",
        "outputId": "01c6d5b5-dc4e-49f5-e87d-1a368f6f7fff",
        "colab": {
          "base_uri": "https://localhost:8080/"
        }
      },
      "execution_count": 2,
      "outputs": [
        {
          "output_type": "stream",
          "name": "stdout",
          "text": [
            "Constant value: 280\n"
          ]
        }
      ]
    },
    {
      "cell_type": "code",
      "source": [
        "import time\n",
        "wd = webdriver.Chrome(options=chrome_options)\n"
      ],
      "metadata": {
        "id": "_FIqthw7HZpW"
      },
      "execution_count": 3,
      "outputs": []
    },
    {
      "cell_type": "code",
      "source": [
        "wd.get(\"https://www.clickasnap.com/iamthecoolguy\")\n",
        "\n",
        "\n",
        "# Open the website\n",
        "# wd.get(\"https://www.example.com\")\n",
        "\n",
        "# Get the title of the website\n",
        "title = wd.title\n",
        "print(\"Title:\", title)\n",
        "time.sleep(5)\n"
      ],
      "metadata": {
        "colab": {
          "base_uri": "https://localhost:8080/"
        },
        "id": "hrzNaSmXHCLK",
        "outputId": "186342fa-fc23-45bd-d23d-153ff956ee3d"
      },
      "execution_count": 4,
      "outputs": [
        {
          "output_type": "stream",
          "name": "stdout",
          "text": [
            "Title: ClickASnap\n"
          ]
        }
      ]
    },
    {
      "cell_type": "code",
      "source": [
        "# Check if c exists, if not, initialize it to 0\n",
        "if 'c' not in locals():\n",
        "    c = 0\n",
        "\n",
        "# Save screenshot with custom path and filename\n",
        "wd.save_screenshot(f\"/content/screenshot{c}.png\")\n",
        "\n",
        "# Increment c\n",
        "c += 1\n"
      ],
      "metadata": {
        "id": "jVdA1QXpH9ls"
      },
      "execution_count": 5,
      "outputs": []
    },
    {
      "cell_type": "code",
      "source": [
        "from selenium.webdriver.common.by import By\n",
        "from selenium.webdriver.support.ui import WebDriverWait\n",
        "from selenium.webdriver.support import expected_conditions as EC\n",
        "\n",
        "# Wait for the button to be clickable\n",
        "button = WebDriverWait(wd, 10).until(EC.element_to_be_clickable((By.ID, \"rcc-confirm-button\")))\n",
        "\n",
        "# Click the button\n",
        "button.click()\n",
        "time.sleep(5)\n"
      ],
      "metadata": {
        "id": "jFRaE2t-KuyE"
      },
      "execution_count": 6,
      "outputs": []
    },
    {
      "cell_type": "code",
      "source": [
        "# Scroll down 10 pixels\n",
        "wd.execute_script(\"window.scrollBy(0, 500);\")\n",
        "time.sleep(5)"
      ],
      "metadata": {
        "id": "0KOzAZ-WK71c"
      },
      "execution_count": 7,
      "outputs": []
    },
    {
      "cell_type": "code",
      "source": [
        "from selenium.webdriver.common.action_chains import ActionChains\n",
        "\n",
        "# Get the x and y coordinates\n",
        "x = 100\n",
        "y = 400\n",
        "\n",
        "# Perform a click action at the specified coordinates\n",
        "ActionChains(wd).move_by_offset(x, y).click().perform()\n",
        "time.sleep(5)"
      ],
      "metadata": {
        "id": "0iMc9uRHMOGQ"
      },
      "execution_count": 8,
      "outputs": []
    },
    {
      "cell_type": "code",
      "source": [
        "import time\n",
        "from selenium.webdriver.common.keys import Keys\n",
        "\n",
        "# Number of times to press the right arrow key\n",
        "total_presses = k\n",
        "print(k)\n",
        "# Perform the action\n",
        "for _ in range(total_presses):\n",
        "    # Simulate pressing the right arrow key\n",
        "    wd.find_element(By.TAG_NAME, 'body').send_keys(Keys.ARROW_RIGHT)\n",
        "    # Wait for 5 seconds\n",
        "    time.sleep(5)\n",
        "    print(_)\n"
      ],
      "metadata": {
        "id": "XA1Qw6qwO-lS",
        "colab": {
          "base_uri": "https://localhost:8080/"
        },
        "outputId": "a39beb37-7a70-4522-c675-17377cfa8c4c"
      },
      "execution_count": null,
      "outputs": [
        {
          "output_type": "stream",
          "name": "stdout",
          "text": [
            "280\n",
            "0\n",
            "1\n",
            "2\n",
            "3\n",
            "4\n",
            "5\n",
            "6\n",
            "7\n",
            "8\n",
            "9\n",
            "10\n",
            "11\n",
            "12\n",
            "13\n",
            "14\n",
            "15\n",
            "16\n",
            "17\n",
            "18\n",
            "19\n",
            "20\n",
            "21\n",
            "22\n",
            "23\n",
            "24\n",
            "25\n",
            "26\n",
            "27\n",
            "28\n",
            "29\n",
            "30\n",
            "31\n",
            "32\n",
            "33\n",
            "34\n",
            "35\n",
            "36\n",
            "37\n",
            "38\n",
            "39\n",
            "40\n",
            "41\n",
            "42\n",
            "43\n",
            "44\n",
            "45\n",
            "46\n",
            "47\n",
            "48\n",
            "49\n",
            "50\n",
            "51\n",
            "52\n",
            "53\n",
            "54\n",
            "55\n",
            "56\n",
            "57\n",
            "58\n",
            "59\n",
            "60\n",
            "61\n",
            "62\n",
            "63\n",
            "64\n",
            "65\n",
            "66\n",
            "67\n",
            "68\n",
            "69\n",
            "70\n",
            "71\n",
            "72\n",
            "73\n",
            "74\n",
            "75\n",
            "76\n",
            "77\n",
            "78\n",
            "79\n",
            "80\n",
            "81\n",
            "82\n",
            "83\n",
            "84\n",
            "85\n",
            "86\n",
            "87\n",
            "88\n",
            "89\n",
            "90\n",
            "91\n",
            "92\n",
            "93\n",
            "94\n",
            "95\n",
            "96\n",
            "97\n",
            "98\n",
            "99\n",
            "100\n",
            "101\n",
            "102\n",
            "103\n",
            "104\n",
            "105\n",
            "106\n",
            "107\n",
            "108\n",
            "109\n",
            "110\n",
            "111\n",
            "112\n",
            "113\n",
            "114\n",
            "115\n",
            "116\n",
            "117\n",
            "118\n",
            "119\n",
            "120\n",
            "121\n",
            "122\n",
            "123\n",
            "124\n",
            "125\n",
            "126\n",
            "127\n",
            "128\n",
            "129\n",
            "130\n",
            "131\n",
            "132\n",
            "133\n",
            "134\n",
            "135\n",
            "136\n",
            "137\n",
            "138\n",
            "139\n",
            "140\n",
            "141\n",
            "142\n",
            "143\n",
            "144\n",
            "145\n",
            "146\n",
            "147\n",
            "148\n",
            "149\n",
            "150\n",
            "151\n",
            "152\n",
            "153\n",
            "154\n",
            "155\n",
            "156\n",
            "157\n",
            "158\n",
            "159\n",
            "160\n",
            "161\n",
            "162\n",
            "163\n",
            "164\n",
            "165\n",
            "166\n",
            "167\n",
            "168\n",
            "169\n",
            "170\n",
            "171\n",
            "172\n",
            "173\n",
            "174\n",
            "175\n",
            "176\n",
            "177\n",
            "178\n",
            "179\n",
            "180\n",
            "181\n",
            "182\n",
            "183\n",
            "184\n",
            "185\n",
            "186\n",
            "187\n",
            "188\n",
            "189\n",
            "190\n",
            "191\n",
            "192\n",
            "193\n",
            "194\n",
            "195\n",
            "196\n",
            "197\n",
            "198\n",
            "199\n",
            "200\n",
            "201\n",
            "202\n",
            "203\n",
            "204\n",
            "205\n",
            "206\n",
            "207\n",
            "208\n",
            "209\n",
            "210\n",
            "211\n",
            "212\n",
            "213\n",
            "214\n",
            "215\n",
            "216\n",
            "217\n",
            "218\n",
            "219\n",
            "220\n",
            "221\n",
            "222\n",
            "223\n",
            "224\n",
            "225\n",
            "226\n",
            "227\n",
            "228\n",
            "229\n",
            "230\n",
            "231\n",
            "232\n",
            "233\n",
            "234\n"
          ]
        }
      ]
    },
    {
      "cell_type": "code",
      "source": [
        "import os\n",
        "\n",
        "# Disconnect the runtime\n",
        "os.kill(os.getpid(), 9)\n",
        "\n",
        "# Delete the runtime\n",
        "!kill -9 -1\n"
      ],
      "metadata": {
        "id": "g5i6GCI-53Ww"
      },
      "execution_count": null,
      "outputs": []
    },
    {
      "cell_type": "markdown",
      "source": [
        "# **test clciks**"
      ],
      "metadata": {
        "id": "bJyDqZSzWjS3"
      }
    },
    {
      "cell_type": "code",
      "source": [
        "from selenium.webdriver.common.keys import Keys\n",
        "\n",
        "# Perform the action\n",
        "wd.find_element(By.TAG_NAME, 'body').send_keys(Keys.ARROW_RIGHT)\n"
      ],
      "metadata": {
        "id": "vXRZhu0ZPeLp"
      },
      "execution_count": null,
      "outputs": []
    },
    {
      "cell_type": "code",
      "source": [
        "# import time\n",
        "# from selenium.webdriver.common.keys import Keys\n",
        "\n",
        "# def save_screenshot(c):\n",
        "#     c = c\n",
        "#     wd.save_screenshot(f\"screenshot{c}.png\")\n",
        "#     wd.save_screenshot(f\"/content/screenshot{c}.png\")\n",
        "#     c += 1\n",
        "\n",
        "\n",
        "\n",
        "\n",
        "# def press_right_arrow(wd, total_presses):\n",
        "#     \"\"\"\n",
        "#     Simulates pressing the right arrow key a specified number of times.\n",
        "\n",
        "#     Args:\n",
        "#         wd: WebDriver instance.\n",
        "#         total_presses: Total number of times to press the right arrow key.\n",
        "#     \"\"\"\n",
        "#     for _ in range(total_presses):\n",
        "#         # Simulate pressing the right arrow key\n",
        "#         wd.find_element(By.TAG_NAME, 'body').send_keys(Keys.ARROW_RIGHT)\n",
        "#         # Wait for 5 seconds\n",
        "#         time.sleep(5)\n",
        "\n",
        "# # Example usage\n",
        "# total_presses = 260\n",
        "# press_right_arrow(0 )\n"
      ],
      "metadata": {
        "id": "38uBxhQnTzXg"
      },
      "execution_count": null,
      "outputs": []
    }
  ]
}
